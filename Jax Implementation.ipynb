{
 "cells": [
  {
   "cell_type": "code",
   "execution_count": 1,
   "id": "2d3c2c7d",
   "metadata": {},
   "outputs": [],
   "source": [
    "import sys, os\n",
    "import jax\n",
    "import jax.numpy as np\n",
    "from jax import grad, jit, vmap\n",
    "from jax import random\n",
    "from jax.example_libraries import stax\n",
    "import jax.tree_util as tree_util # for applying learning rate to gradients\n",
    "import pandas as pd\n",
    "\n",
    "from matplotlib import pyplot as plt"
   ]
  },
  {
   "cell_type": "code",
   "execution_count": null,
   "id": "275fba39",
   "metadata": {},
   "outputs": [],
   "source": []
  },
  {
   "cell_type": "code",
   "execution_count": 2,
   "id": "88c732a7",
   "metadata": {},
   "outputs": [],
   "source": [
    "src_dir = os.path.dirname(\"./src/\")\n",
    "sys.path.insert(0,src_dir)"
   ]
  },
  {
   "cell_type": "code",
   "execution_count": 3,
   "id": "94301a2a",
   "metadata": {},
   "outputs": [],
   "source": [
    "from utils.dataloaders import krypton\n",
    "# Load the sipm database:\n",
    "sipm_db = pd.read_pickle(\"database/new_sipm.pkl\")\n",
    "\n",
    "dl = krypton(\n",
    "    batch_size  = 32,\n",
    "    db          = sipm_db,\n",
    "    path        = \"/Users/corey.adams/data/NEXT/new_raw_data\",\n",
    "    run         = 8678\n",
    "    )"
   ]
  },
  {
   "cell_type": "code",
   "execution_count": 4,
   "id": "4a15dc10",
   "metadata": {},
   "outputs": [
    {
     "name": "stderr",
     "output_type": "stream",
     "text": [
      "WARNING:absl:No GPU/TPU found, falling back to CPU. (Set TF_CPP_MIN_LOG_LEVEL=0 and rerun for more info.)\n"
     ]
    }
   ],
   "source": [
    "batch = next(dl.iterate())\n",
    "key = random.PRNGKey(0)"
   ]
  },
  {
   "cell_type": "code",
   "execution_count": 5,
   "id": "b1bc0b65",
   "metadata": {},
   "outputs": [],
   "source": [
    "parameters = []"
   ]
  },
  {
   "cell_type": "code",
   "execution_count": 6,
   "id": "573dc8b8",
   "metadata": {},
   "outputs": [],
   "source": [
    "def generate_electrons(energy_and_position, _key):\n",
    "    '''\n",
    "    Generate a sequence of electrons given an energy amount.\n",
    "    A random number of electrons are generated, but a static-sized array \n",
    "    is returned.  This ensures jit'ing is possible later.\n",
    "    The number of electrons in the array that is valid is also returned\n",
    "    '''\n",
    "    \n",
    "    energy   = energy_and_position[-1]\n",
    "    position = energy_and_position[0:3]\n",
    "    \n",
    "    # For each energy, compute n:\n",
    "    n = energy* 1000.*1000. / 22.4\n",
    "    sigmas = np.sqrt(n * 0.15)\n",
    "    # Generate a sample for each energy:\n",
    "    n_electrons = (sigmas*random.normal(_key) + n).astype(np.int32)\n",
    "    \n",
    "    shape = (2000, 3)\n",
    "    el_arr = np.broadcast_to(position, shape)\n",
    "    \n",
    "    return el_arr, n_electrons"
   ]
  },
  {
   "cell_type": "code",
   "execution_count": 7,
   "id": "0fca044e",
   "metadata": {},
   "outputs": [
    {
     "name": "stdout",
     "output_type": "stream",
     "text": [
      "[-1.6410422e+02 -3.7705009e+01  3.0000376e+01  4.1557498e-02]\n"
     ]
    },
    {
     "data": {
      "text/plain": [
       "(DeviceArray([[-164.10422 ,  -37.70501 ,   30.000376],\n",
       "              [-164.10422 ,  -37.70501 ,   30.000376],\n",
       "              [-164.10422 ,  -37.70501 ,   30.000376],\n",
       "              ...,\n",
       "              [-164.10422 ,  -37.70501 ,   30.000376],\n",
       "              [-164.10422 ,  -37.70501 ,   30.000376],\n",
       "              [-164.10422 ,  -37.70501 ,   30.000376]], dtype=float32),\n",
       " DeviceArray(1834, dtype=int32))"
      ]
     },
     "execution_count": 7,
     "metadata": {},
     "output_type": "execute_result"
    }
   ],
   "source": [
    "key, subkey = random.split(key)\n",
    "print(batch['energy_deposits'][0][0])\n",
    "generate_electrons(batch['energy_deposits'][0][0], subkey)"
   ]
  },
  {
   "cell_type": "code",
   "execution_count": 8,
   "id": "d7514ace",
   "metadata": {},
   "outputs": [
    {
     "name": "stdout",
     "output_type": "stream",
     "text": [
      "452 µs ± 55.4 µs per loop (mean ± std. dev. of 7 runs, 100 loops each)\n"
     ]
    }
   ],
   "source": [
    "%timeit -n 100 generate_electrons(batch['energy_deposits'][0][0], subkey)"
   ]
  },
  {
   "cell_type": "code",
   "execution_count": 9,
   "id": "e37e07f9",
   "metadata": {},
   "outputs": [],
   "source": [
    "generate_electrons = jit(generate_electrons)\n"
   ]
  },
  {
   "cell_type": "code",
   "execution_count": 10,
   "id": "ee494ff1",
   "metadata": {},
   "outputs": [
    {
     "name": "stdout",
     "output_type": "stream",
     "text": [
      "The slowest run took 13.17 times longer than the fastest. This could mean that an intermediate result is being cached.\n",
      "27.2 µs ± 41.8 µs per loop (mean ± std. dev. of 7 runs, 1000 loops each)\n"
     ]
    }
   ],
   "source": [
    "%timeit -n 1000 generate_electrons(batch['energy_deposits'][0][0], subkey)"
   ]
  },
  {
   "cell_type": "code",
   "execution_count": 11,
   "id": "f17d4965",
   "metadata": {},
   "outputs": [],
   "source": [
    "# When vmap'd, it will generate the electron array for all the energy depositions in one event\n",
    "generate_electrons_event = vmap(generate_electrons, in_axes=[0, None])\n",
    "\n",
    "generate_electrons_event = jit(generate_electrons_event)\n"
   ]
  },
  {
   "cell_type": "code",
   "execution_count": 12,
   "id": "dbc73cdc",
   "metadata": {},
   "outputs": [],
   "source": [
    "electrons, n_valid = generate_electrons_event(batch['energy_deposits'][0], subkey)"
   ]
  },
  {
   "cell_type": "code",
   "execution_count": 13,
   "id": "d25c2230",
   "metadata": {},
   "outputs": [
    {
     "name": "stdout",
     "output_type": "stream",
     "text": [
      "(2, 2000, 3)\n"
     ]
    }
   ],
   "source": [
    "print(electrons.shape)"
   ]
  },
  {
   "cell_type": "code",
   "execution_count": 14,
   "id": "3b8ccf3b",
   "metadata": {},
   "outputs": [
    {
     "name": "stdout",
     "output_type": "stream",
     "text": [
      "15.3 µs ± 2.64 µs per loop (mean ± std. dev. of 7 runs, 1000 loops each)\n"
     ]
    }
   ],
   "source": [
    "%timeit -n 1000 electrons, n_valid = generate_electrons_event(batch['energy_deposits'][0], subkey)"
   ]
  },
  {
   "cell_type": "code",
   "execution_count": 15,
   "id": "3d069df2",
   "metadata": {},
   "outputs": [],
   "source": [
    "# VMAP one more time to process an entire batch:\n",
    "generate_electrons_batch = vmap(generate_electrons_event, in_axes=[0,None])"
   ]
  },
  {
   "cell_type": "code",
   "execution_count": 16,
   "id": "a0e65689",
   "metadata": {},
   "outputs": [],
   "source": [
    "electrons, n_valid = generate_electrons_batch(batch['energy_deposits'], subkey)"
   ]
  },
  {
   "cell_type": "code",
   "execution_count": 17,
   "id": "884213ce",
   "metadata": {},
   "outputs": [
    {
     "name": "stdout",
     "output_type": "stream",
     "text": [
      "603 µs ± 44.3 µs per loop (mean ± std. dev. of 7 runs, 100 loops each)\n"
     ]
    }
   ],
   "source": [
    "%timeit -n 100 generate_electrons_batch(batch['energy_deposits'], subkey)"
   ]
  },
  {
   "cell_type": "code",
   "execution_count": 18,
   "id": "781c72ad",
   "metadata": {
    "scrolled": true
   },
   "outputs": [],
   "source": [
    "generate_electrons_batch = jit(generate_electrons_batch)\n",
    "out = generate_electrons_batch(batch['energy_deposits'], subkey)"
   ]
  },
  {
   "cell_type": "code",
   "execution_count": 19,
   "id": "c7f7ace0",
   "metadata": {},
   "outputs": [
    {
     "name": "stdout",
     "output_type": "stream",
     "text": [
      "89.1 µs ± 18.3 µs per loop (mean ± std. dev. of 7 runs, 100 loops each)\n"
     ]
    }
   ],
   "source": [
    "%timeit -n 100 generate_electrons_batch(batch['energy_deposits'], subkey)"
   ]
  },
  {
   "cell_type": "code",
   "execution_count": 20,
   "id": "ecae37d7",
   "metadata": {},
   "outputs": [
    {
     "name": "stdout",
     "output_type": "stream",
     "text": [
      "(32, 2, 2000, 3)\n"
     ]
    }
   ],
   "source": [
    "print(electrons.shape)"
   ]
  },
  {
   "cell_type": "code",
   "execution_count": 21,
   "id": "a87ce87e",
   "metadata": {},
   "outputs": [
    {
     "name": "stdout",
     "output_type": "stream",
     "text": [
      "(32, 2)\n"
     ]
    }
   ],
   "source": [
    "print(n_valid.shape)"
   ]
  },
  {
   "cell_type": "code",
   "execution_count": 22,
   "id": "44d7ab04",
   "metadata": {},
   "outputs": [],
   "source": [
    "diffusion_scale = np.ones(3)\n",
    "parameters.append(diffusion_scale)"
   ]
  },
  {
   "cell_type": "code",
   "execution_count": 23,
   "id": "7cb07225",
   "metadata": {},
   "outputs": [],
   "source": [
    "def diffuse_electrons(electrons, diffusion_scale, _key):\n",
    "    '''\n",
    "    Apply diffusion to the electrons in a single energy deposition.\n",
    "    '''\n",
    "    \n",
    "    # Then input should be an array of shape [max_electrons, 3]\n",
    "    # only some of these are valid, but that's ok, it's not\n",
    "    # that wasteful to diffuse them all.\n",
    "    \n",
    "    # Get the z position (we only need this as a scalar!):\n",
    "    z = electrons[-1,-1]\n",
    "    n_samples = electrons.shape[0]\n",
    "    \n",
    "    # Sample from a normal distribution:\n",
    "    kicks = random.normal(_key, (electrons.shape))\n",
    "    \n",
    "    # Scale the kicks by the diffusion scale and sqrt(z)\n",
    "    return electrons + z*diffusion_scale*kicks\n",
    "    "
   ]
  },
  {
   "cell_type": "code",
   "execution_count": 24,
   "id": "d2be0d50",
   "metadata": {},
   "outputs": [],
   "source": [
    "single_en, single_valid = generate_electrons(batch['energy_deposits'][0][0], subkey)\n",
    "out = diffuse_electrons(single_en, diffusion_scale, subkey)"
   ]
  },
  {
   "cell_type": "code",
   "execution_count": 25,
   "id": "2af25242",
   "metadata": {},
   "outputs": [
    {
     "name": "stdout",
     "output_type": "stream",
     "text": [
      "1.77 ms ± 38.2 µs per loop (mean ± std. dev. of 7 runs, 100 loops each)\n"
     ]
    }
   ],
   "source": [
    "%timeit -n 100 diffuse_electrons(single_en, diffusion_scale, subkey)\n"
   ]
  },
  {
   "cell_type": "code",
   "execution_count": 26,
   "id": "a5f533e5",
   "metadata": {},
   "outputs": [],
   "source": [
    "diffuse_electrons = jit(diffuse_electrons)"
   ]
  },
  {
   "cell_type": "code",
   "execution_count": 27,
   "id": "c145bfbc",
   "metadata": {},
   "outputs": [
    {
     "name": "stdout",
     "output_type": "stream",
     "text": [
      "The slowest run took 12.66 times longer than the fastest. This could mean that an intermediate result is being cached.\n",
      "341 µs ± 517 µs per loop (mean ± std. dev. of 7 runs, 100 loops each)\n"
     ]
    }
   ],
   "source": [
    "%timeit -n 100 diffuse_electrons(single_en, diffusion_scale, subkey)\n"
   ]
  },
  {
   "cell_type": "code",
   "execution_count": 28,
   "id": "154c0505",
   "metadata": {},
   "outputs": [
    {
     "name": "stdout",
     "output_type": "stream",
     "text": [
      "[[-168.91626   -25.858223   52.869476]\n",
      " [-171.4616    -61.647263   67.327034]\n",
      " [-222.9669    -43.530827   53.828682]\n",
      " ...\n",
      " [-134.67134   -90.67422    37.91455 ]\n",
      " [-185.19542   -21.963654  -22.016857]\n",
      " [-194.21474    19.421188   52.556507]]\n"
     ]
    }
   ],
   "source": [
    "print(diffuse_electrons(single_en, diffusion_scale, subkey))"
   ]
  },
  {
   "cell_type": "code",
   "execution_count": 29,
   "id": "0b1e9ebd",
   "metadata": {},
   "outputs": [
    {
     "data": {
      "text/plain": [
       "DeviceArray(30.000376, dtype=float32)"
      ]
     },
     "execution_count": 29,
     "metadata": {},
     "output_type": "execute_result"
    }
   ],
   "source": [
    "single_en[-1][-1]"
   ]
  },
  {
   "cell_type": "code",
   "execution_count": null,
   "id": "1c23b315",
   "metadata": {},
   "outputs": [],
   "source": []
  },
  {
   "cell_type": "code",
   "execution_count": null,
   "id": "73b8960d",
   "metadata": {},
   "outputs": [],
   "source": []
  },
  {
   "cell_type": "code",
   "execution_count": 30,
   "id": "208822db",
   "metadata": {},
   "outputs": [],
   "source": [
    "diffuse_electrons_event = jit(vmap(diffuse_electrons, in_axes=[0,None, None]))"
   ]
  },
  {
   "cell_type": "code",
   "execution_count": 31,
   "id": "36b5428b",
   "metadata": {},
   "outputs": [],
   "source": [
    "event_el, event_valid = generate_electrons_event(batch['energy_deposits'][0], subkey)\n",
    "out = diffuse_electrons_event(event_el, diffusion_scale, subkey)\n"
   ]
  },
  {
   "cell_type": "code",
   "execution_count": 32,
   "id": "a7f04077",
   "metadata": {},
   "outputs": [
    {
     "name": "stdout",
     "output_type": "stream",
     "text": [
      "165 µs ± 22.1 µs per loop (mean ± std. dev. of 7 runs, 100 loops each)\n"
     ]
    }
   ],
   "source": [
    "%timeit -n 100 diffuse_electrons_event(event_el, diffusion_scale, subkey)"
   ]
  },
  {
   "cell_type": "code",
   "execution_count": 33,
   "id": "0fc93d39",
   "metadata": {},
   "outputs": [
    {
     "name": "stdout",
     "output_type": "stream",
     "text": [
      "[[[-168.91626   -25.858223   52.869476]\n",
      "  [-171.4616    -61.647263   67.327034]\n",
      "  [-222.9669    -43.530827   53.828682]\n",
      "  ...\n",
      "  [-134.67134   -90.674225   37.91455 ]\n",
      "  [-185.19542   -21.963654  -22.01686 ]\n",
      "  [-194.21474    19.42119    52.556507]]\n",
      "\n",
      " [[   0.          0.          0.      ]\n",
      "  [   0.          0.          0.      ]\n",
      "  [   0.          0.          0.      ]\n",
      "  ...\n",
      "  [   0.          0.          0.      ]\n",
      "  [   0.          0.          0.      ]\n",
      "  [   0.          0.          0.      ]]]\n",
      "(2, 2000, 3)\n"
     ]
    }
   ],
   "source": [
    "print(out)\n",
    "print(out.shape)"
   ]
  },
  {
   "cell_type": "code",
   "execution_count": 34,
   "id": "2911fd6b",
   "metadata": {
    "scrolled": false
   },
   "outputs": [],
   "source": [
    "# Lastly, vmap one more time and get to the entire batch:\n",
    "diffuse_electrons_batch = vmap(jit(diffuse_electrons_event), in_axes=[0,None, None])\n",
    "electrons, n_valid = generate_electrons_batch(batch['energy_deposits'], subkey)\n"
   ]
  },
  {
   "cell_type": "code",
   "execution_count": 35,
   "id": "b8a3fe92",
   "metadata": {},
   "outputs": [
    {
     "name": "stdout",
     "output_type": "stream",
     "text": [
      "1.33 ms ± 584 µs per loop (mean ± std. dev. of 7 runs, 100 loops each)\n"
     ]
    }
   ],
   "source": [
    "%timeit -n 100 diffuse_electrons_batch(electrons, diffusion_scale, subkey)"
   ]
  },
  {
   "cell_type": "code",
   "execution_count": 36,
   "id": "6514df8c",
   "metadata": {},
   "outputs": [],
   "source": [
    "output = diffuse_electrons_batch(electrons, diffusion_scale, subkey)"
   ]
  },
  {
   "cell_type": "code",
   "execution_count": 37,
   "id": "6c616cf6",
   "metadata": {},
   "outputs": [
    {
     "name": "stdout",
     "output_type": "stream",
     "text": [
      "(32, 2, 2000, 3)\n"
     ]
    }
   ],
   "source": [
    "print(output.shape)"
   ]
  },
  {
   "cell_type": "code",
   "execution_count": 38,
   "id": "cfdb33ad",
   "metadata": {},
   "outputs": [],
   "source": [
    "# Lastly, vmap one more time and get to the entire batch:\n",
    "diffuse_electrons_batch = jit(vmap(diffuse_electrons_event, in_axes=[0,None, None]))\n",
    "electrons, n_valid = generate_electrons_batch(batch['energy_deposits'], subkey)\n"
   ]
  },
  {
   "cell_type": "code",
   "execution_count": 39,
   "id": "4a6cef34",
   "metadata": {},
   "outputs": [
    {
     "name": "stdout",
     "output_type": "stream",
     "text": [
      "837 µs ± 599 µs per loop (mean ± std. dev. of 7 runs, 100 loops each)\n"
     ]
    }
   ],
   "source": [
    "%timeit -n 100 diffuse_electrons_batch(electrons, diffusion_scale, subkey)"
   ]
  },
  {
   "cell_type": "code",
   "execution_count": 40,
   "id": "c5cf1fd6",
   "metadata": {},
   "outputs": [],
   "source": [
    "output = diffuse_electrons_batch(electrons, diffusion_scale, subkey)"
   ]
  },
  {
   "cell_type": "code",
   "execution_count": 41,
   "id": "03016db1",
   "metadata": {},
   "outputs": [
    {
     "data": {
      "text/plain": [
       "(32, 2, 2000, 3)"
      ]
     },
     "execution_count": 41,
     "metadata": {},
     "output_type": "execute_result"
    }
   ],
   "source": [
    "output.shape"
   ]
  },
  {
   "cell_type": "code",
   "execution_count": null,
   "id": "1ab83080",
   "metadata": {},
   "outputs": [],
   "source": []
  },
  {
   "cell_type": "code",
   "execution_count": 42,
   "id": "19b44e62",
   "metadata": {},
   "outputs": [],
   "source": [
    "lifetime = np.asarray(100.)"
   ]
  },
  {
   "cell_type": "code",
   "execution_count": 43,
   "id": "7fb6d5d0",
   "metadata": {},
   "outputs": [],
   "source": [
    "# The lifetime gets finnicky if I put these two steps into one function.\n",
    "# I don't know why yet.  But this works.  It also applies 0 weights to invalid electrons.\n",
    "\n",
    "\n",
    "@jit\n",
    "def s_compute_probability(_diffused_electrons, _lifetime):\n",
    "    _z = _diffused_electrons[:,-1]\n",
    "    probability = np.exp(- _z / _lifetime)\n",
    "\n",
    "    return probability\n",
    "\n",
    "@jit\n",
    "def s_compute_mask(_diffused_electrons, _n_valid):\n",
    "    # This technique is \"stupid\" but it jit's and vmap's, so it's not THAT stupid\n",
    "    arange = np.arange(len(_diffused_electrons))\n",
    "    mask = arange < _n_valid\n",
    "    mask = mask.astype(\"float32\")\n",
    "    return mask\n",
    "\n",
    "e_compute_probability = jit(vmap(s_compute_probability, in_axes=[0,None]))\n",
    "compute_probability = jit(vmap(e_compute_probability, in_axes=[0,None]))\n",
    "\n",
    "e_compute_mask = jit(vmap(s_compute_mask))\n",
    "compute_mask = jit(vmap(e_compute_mask))\n",
    "    \n",
    "@jit\n",
    "def compute_lifetime(electrons_batch, _lifetime, n_valid_batch):\n",
    "    return compute_mask(electrons_batch, n_valid_batch) * compute_probability(electrons_batch, _lifetime)\n",
    "    \n",
    "# def split_lifetime(_diffused_electrons, _lifetime, _n_valid):\n",
    "#     p = compute_probability(_diffused_electrons, _lifetime)\n",
    "#     m = compute_mask(_diffused_electrons, _n_valid)\n",
    "#     return p*m"
   ]
  },
  {
   "cell_type": "code",
   "execution_count": 44,
   "id": "cd65fefc",
   "metadata": {},
   "outputs": [],
   "source": [
    "electrons, n_valid = generate_electrons_batch(batch['energy_deposits'], subkey)\n",
    "out_batch =  diffuse_electrons_batch(electrons, diffusion_scale, subkey)\n",
    "\n"
   ]
  },
  {
   "cell_type": "code",
   "execution_count": 45,
   "id": "f8c6899a",
   "metadata": {},
   "outputs": [
    {
     "name": "stdout",
     "output_type": "stream",
     "text": [
      "The slowest run took 5.95 times longer than the fastest. This could mean that an intermediate result is being cached.\n",
      "242 µs ± 240 µs per loop (mean ± std. dev. of 7 runs, 100 loops each)\n"
     ]
    }
   ],
   "source": [
    "%timeit -n 100 compute_lifetime(out_batch, lifetime, n_valid)"
   ]
  },
  {
   "cell_type": "code",
   "execution_count": 46,
   "id": "72b3f559",
   "metadata": {},
   "outputs": [],
   "source": [
    "# PMT responses use a neural network.\n",
    "# Input is a single energy depositions's worth of electrons, that turns into signals on a PMT"
   ]
  },
  {
   "cell_type": "code",
   "execution_count": 108,
   "id": "9e85db66",
   "metadata": {},
   "outputs": [],
   "source": [
    "pmt_nn_init, pmt_nn_apply = stax.serial(\n",
    "    stax.Dense(28), stax.Sigmoid,\n",
    "    stax.Dense(12),\n",
    "    stax.Sigmoid\n",
    ")\n",
    "\n",
    "pmt_response_scale = np.ones(12)\n",
    "\n",
    "# We feed into the network a series of electrons:\n",
    "single_en, single_valid = generate_electrons(batch['energy_deposits'][0][0], subkey)\n",
    "single_out = diffuse_electrons(single_en, diffusion_scale, subkey)\n",
    "input_shape = single_out[:,0:2].shape\n",
    "\n",
    "probability = s_compute_probability(single_out, lifetime)\n",
    "mask        = s_compute_mask(single_out, single_valid)\n",
    "\n",
    "single_weights = probability*mask\n",
    "\n",
    "key, supkey = random.split(key)\n",
    "\n",
    "pmt_output_shape, pmt_params_initial = pmt_nn_init(subkey, input_shape)"
   ]
  },
  {
   "cell_type": "code",
   "execution_count": 109,
   "id": "4bc4e7c4",
   "metadata": {},
   "outputs": [
    {
     "data": {
      "text/plain": [
       "(2000, 12)"
      ]
     },
     "execution_count": 109,
     "metadata": {},
     "output_type": "execute_result"
    }
   ],
   "source": [
    "pmt_output_shape"
   ]
  },
  {
   "cell_type": "code",
   "execution_count": 110,
   "id": "5b8f6998",
   "metadata": {},
   "outputs": [
    {
     "name": "stdout",
     "output_type": "stream",
     "text": [
      "Help on function apply_fun in module jax.example_libraries.stax:\n",
      "\n",
      "apply_fun(params, inputs, **kwargs)\n",
      "\n"
     ]
    }
   ],
   "source": [
    "help(pmt_nn_apply)"
   ]
  },
  {
   "cell_type": "code",
   "execution_count": 111,
   "id": "a158ad2b",
   "metadata": {},
   "outputs": [],
   "source": [
    "pmt_output = pmt_nn_apply(pmt_params_initial, single_out[:,0:2])"
   ]
  },
  {
   "cell_type": "code",
   "execution_count": 113,
   "id": "c2cbd306",
   "metadata": {},
   "outputs": [
    {
     "name": "stdout",
     "output_type": "stream",
     "text": [
      "935 µs ± 117 µs per loop (mean ± std. dev. of 7 runs, 100 loops each)\n"
     ]
    }
   ],
   "source": [
    "%timeit -n 100 pmt_nn_apply(pmt_params_initial, single_out[:,0:2])"
   ]
  },
  {
   "cell_type": "code",
   "execution_count": 114,
   "id": "73eafb33",
   "metadata": {},
   "outputs": [],
   "source": [
    "pmt_nn_apply = jit(pmt_nn_apply)"
   ]
  },
  {
   "cell_type": "code",
   "execution_count": 115,
   "id": "842930cd",
   "metadata": {},
   "outputs": [
    {
     "name": "stdout",
     "output_type": "stream",
     "text": [
      "909 µs ± 156 µs per loop (mean ± std. dev. of 7 runs, 100 loops each)\n"
     ]
    }
   ],
   "source": [
    "%timeit -n 100 pmt_nn_apply(pmt_params_initial, single_out[:,0:2])"
   ]
  },
  {
   "cell_type": "code",
   "execution_count": 116,
   "id": "aae469cf",
   "metadata": {},
   "outputs": [],
   "source": [
    "# We call the PMT function and need to VMAP / JIT it seperately:\n",
    "event_pmt_nn_apply = jit(vmap(pmt_nn_apply, in_axes=[None, 0]))\n"
   ]
  },
  {
   "cell_type": "code",
   "execution_count": 117,
   "id": "350ae815",
   "metadata": {},
   "outputs": [],
   "source": [
    "event_el, event_valid = generate_electrons_event(batch['energy_deposits'][0], subkey)\n",
    "out = diffuse_electrons_event(event_el, diffusion_scale, subkey)\n",
    "\n",
    "event_pmt_output = event_pmt_nn_apply(pmt_params_initial, out[:,:,0:2])\n",
    "\n"
   ]
  },
  {
   "cell_type": "code",
   "execution_count": 118,
   "id": "8a951259",
   "metadata": {},
   "outputs": [
    {
     "name": "stdout",
     "output_type": "stream",
     "text": [
      "(2, 2000, 12)\n"
     ]
    }
   ],
   "source": [
    "print(event_pmt_output.shape)"
   ]
  },
  {
   "cell_type": "code",
   "execution_count": 119,
   "id": "aed869fa",
   "metadata": {},
   "outputs": [
    {
     "name": "stdout",
     "output_type": "stream",
     "text": [
      "1.1 ms ± 42.8 µs per loop (mean ± std. dev. of 7 runs, 100 loops each)\n"
     ]
    }
   ],
   "source": [
    "%timeit -n 100 event_pmt_nn_apply(pmt_params_initial, out[:,:,0:2])"
   ]
  },
  {
   "cell_type": "code",
   "execution_count": 120,
   "id": "e09ead34",
   "metadata": {},
   "outputs": [],
   "source": [
    "batch_pmt_nn_apply = jit(vmap(event_pmt_nn_apply, in_axes=[None, 0]))\n"
   ]
  },
  {
   "cell_type": "code",
   "execution_count": 121,
   "id": "ec17a665",
   "metadata": {},
   "outputs": [],
   "source": [
    "electrons, n_valid = generate_electrons_batch(batch['energy_deposits'], subkey)\n",
    "out_batch =  diffuse_electrons_batch(electrons, diffusion_scale, subkey)\n",
    "\n",
    "batch_pmt_output = batch_pmt_nn_apply(pmt_params_initial, out_batch[:,:,:,0:2])\n"
   ]
  },
  {
   "cell_type": "code",
   "execution_count": 122,
   "id": "d3a8797a",
   "metadata": {},
   "outputs": [
    {
     "data": {
      "text/plain": [
       "(32, 2, 2000, 12)"
      ]
     },
     "execution_count": 122,
     "metadata": {},
     "output_type": "execute_result"
    }
   ],
   "source": [
    "batch_pmt_output.shape"
   ]
  },
  {
   "cell_type": "code",
   "execution_count": 123,
   "id": "657fe30b",
   "metadata": {},
   "outputs": [
    {
     "name": "stdout",
     "output_type": "stream",
     "text": [
      "10.8 ms ± 605 µs per loop (mean ± std. dev. of 7 runs, 10 loops each)\n"
     ]
    }
   ],
   "source": [
    "%timeit -n 10 batch_pmt_nn_apply(pmt_params_initial, out_batch[:,:,:,0:2])"
   ]
  },
  {
   "cell_type": "code",
   "execution_count": 124,
   "id": "9f26b47c",
   "metadata": {},
   "outputs": [],
   "source": [
    "@jit\n",
    "def build_waveforms(_sensor_response, _z_positions, _weights, _bin_sigma):\n",
    "    '''\n",
    "    Compute the PMT response to electrons on the EL region\n",
    "    '''\n",
    "    # This is basically a constant:\n",
    "    _n_ticks=550\n",
    "    \n",
    "    n_electrons = _z_positions.shape[0]\n",
    "    # Build a range for the exponential input:\n",
    "    starts = np.zeros(shape=(n_electrons)) + 0.5\n",
    "    stops  = np.ones(shape=(n_electrons)) * (_n_ticks -1) + 0.5\n",
    "    \n",
    "    # Reshape z positions for broadcasting:\n",
    "    _z_positions = _z_positions.reshape((-1,1))\n",
    "    \n",
    "    exp_input = np.linspace(start=starts, stop=stops, num=_n_ticks, axis=-1)\n",
    "\n",
    "    exp_values = np.exp( - (exp_input - _z_positions)**2.  / (2. * _bin_sigma))\n",
    "    \n",
    "    # Normalize the values:\n",
    "    exp_values = exp_values.transpose() * (0.39894228040/np.sqrt(_bin_sigma))\n",
    "    \n",
    "    # Scale by the weights:\n",
    "    exp_values = exp_values * _weights\n",
    "    \n",
    "    waveforms = np.matmul(exp_values, _sensor_response)\n",
    "    \n",
    "    return waveforms.transpose()\n",
    "    "
   ]
  },
  {
   "cell_type": "code",
   "execution_count": 125,
   "id": "b3342d97",
   "metadata": {},
   "outputs": [],
   "source": [
    "# Construct the PMT waveform for a single energy deposition like so:\n",
    "\n",
    "parameters = {\n",
    "    \"diffusion\"   : np.ones(3),\n",
    "    \"lifetime\"    : np.asarray(10000.0),\n",
    "    \"pmt_network\" : pmt_params_initial,\n",
    "    \"pmt_scale\"   : np.ones(12), # Normalization per PMT\n",
    "}\n"
   ]
  },
  {
   "cell_type": "code",
   "execution_count": 126,
   "id": "7b9aeb89",
   "metadata": {},
   "outputs": [
    {
     "name": "stdout",
     "output_type": "stream",
     "text": [
      "0.7459205\n"
     ]
    }
   ],
   "source": [
    "\n",
    "\n",
    "# Start with the single energy depositions:\n",
    "s_generated_electrons, s_valid = generate_electrons(batch['energy_deposits'][0][0], subkey)\n",
    "# Diffuse those electrons:\n",
    "s_diffused = diffuse_electrons(s_generated_electrons, parameters[\"diffusion\"], subkey)\n",
    "\n",
    "\n",
    "# Calculate the weights as the probability * mask\n",
    "# Recall this is vectorized and jit'd overall with a \"real\" function \n",
    "# but for some reason needs to be split.\n",
    "s_probability = s_compute_probability(s_diffused, parameters[\"lifetime\"])\n",
    "s_mask        = s_compute_mask(s_diffused, s_valid)\n",
    "s_weights     = s_probability * s_mask\n",
    "\n",
    "\n",
    "# Next, split the diffused_electrons apart into xy and z:\n",
    "s_xy = s_diffused[:,0:2]\n",
    "s_z  = s_diffused[:,2:]\n",
    "\n",
    "# Compute the pmt response:\n",
    "s_pmt_response = pmt_nn_apply(parameters[\"pmt_network\"], s_xy)\n",
    "print(s_pmt_response[8].max())\n",
    "# Use the response and the z positions to build the single waveforms:\n",
    "s_pmt_waveforms = build_waveforms(s_pmt_response, s_z, s_weights, 0.1)"
   ]
  },
  {
   "cell_type": "code",
   "execution_count": 127,
   "id": "d7a7efdf",
   "metadata": {},
   "outputs": [
    {
     "name": "stdout",
     "output_type": "stream",
     "text": [
      "952 µs ± 216 µs per loop (mean ± std. dev. of 7 runs, 100 loops each)\n"
     ]
    }
   ],
   "source": [
    "%timeit -n 100 build_waveforms(s_pmt_response, s_z, s_weights, 0.1)"
   ]
  },
  {
   "cell_type": "code",
   "execution_count": 128,
   "id": "6e11b0a5",
   "metadata": {},
   "outputs": [
    {
     "data": {
      "text/plain": [
       "(2000, 1)"
      ]
     },
     "execution_count": 128,
     "metadata": {},
     "output_type": "execute_result"
    }
   ],
   "source": [
    "s_diffused[:,2:].shape"
   ]
  },
  {
   "cell_type": "code",
   "execution_count": 129,
   "id": "af5cdd67",
   "metadata": {},
   "outputs": [
    {
     "name": "stdout",
     "output_type": "stream",
     "text": [
      "(12, 550)\n",
      "(550,)\n"
     ]
    }
   ],
   "source": [
    "print(s_pmt_waveforms.shape)\n",
    "print(s_pmt_waveforms[0].shape)"
   ]
  },
  {
   "cell_type": "code",
   "execution_count": 130,
   "id": "7a1721f8",
   "metadata": {},
   "outputs": [
    {
     "name": "stdout",
     "output_type": "stream",
     "text": [
      "15.459593\n",
      "851.972412109375\n"
     ]
    },
    {
     "data": {
      "image/png": "[encoded data removed]",
      "text/plain": [
       "<Figure size 1152x648 with 1 Axes>"
      ]
     },
     "metadata": {
      "needs_background": "light"
     },
     "output_type": "display_data"
    }
   ],
   "source": [
    "fig = plt.figure(figsize=(16,9))\n",
    "x = np.arange(550)\n",
    "\n",
    "i_pmt = 4\n",
    "m = batch[\"S2Pmt\"][0][i_pmt].max()\n",
    "print(s_pmt_waveforms[i_pmt].max())\n",
    "print(m)\n",
    "plt.plot(x, s_pmt_waveforms[i_pmt])\n",
    "plt.plot(x, batch[\"S2Pmt\"][0][i_pmt])\n",
    "plt.grid(True)"
   ]
  },
  {
   "cell_type": "code",
   "execution_count": 131,
   "id": "f4c92edf",
   "metadata": {},
   "outputs": [
    {
     "name": "stdout",
     "output_type": "stream",
     "text": [
      "e_xy.shape:  (2, 2000, 2)\n",
      "e_z.shape:  (2, 2000, 1)\n",
      "e_weights.shape:  (2, 2000)\n",
      "e_pmt_response.shape:  (2, 2000, 12)\n"
     ]
    }
   ],
   "source": [
    "\n",
    "\n",
    "# Start with the single energy depositions:\n",
    "e_generated_electrons, e_valid = generate_electrons_event(batch['energy_deposits'][0], subkey)\n",
    "# Diffuse those electrons:\n",
    "e_diffused = diffuse_electrons_event(e_generated_electrons, parameters[\"diffusion\"], subkey)\n",
    "\n",
    "# Calculate the weights as the probability * mask\n",
    "# Recall this is vectorized and jit'd overall with a \"real\" function \n",
    "# but for some reason needs to be split.\n",
    "e_probability = e_compute_probability(e_diffused, parameters[\"lifetime\"])\n",
    "e_mask        = e_compute_mask(e_diffused, e_valid)\n",
    "e_weights     = e_probability * e_mask\n",
    "\n",
    "\n",
    "\n",
    "# Next, split the diffused_electrons apart into xy and z:\n",
    "e_xy = e_diffused[:,:,0:2]\n",
    "e_z  = e_diffused[:,:,2:]\n",
    "\n",
    "print(\"e_xy.shape: \", e_xy.shape)\n",
    "print(\"e_z.shape: \", e_z.shape)\n",
    "print(\"e_weights.shape: \", e_weights.shape)\n",
    "\n",
    "# Compute the pmt response:\n",
    "e_pmt_response = event_pmt_nn_apply(parameters[\"pmt_network\"], e_xy)\n",
    "\n",
    "print(\"e_pmt_response.shape: \", e_pmt_response.shape)\n",
    "\n",
    "e_build_waveforms = jit(vmap(build_waveforms, in_axes=[0,0,0,None,]))\n",
    "\n",
    "\n",
    "\n",
    "# Use the response and the z positions to build the single waveforms:\n",
    "e_pmt_waveforms = e_build_waveforms(e_pmt_response, e_z, e_weights, 0.2)\n",
    "# ^ This has an extra axis that needs to be reduced.\n",
    "e_pmt_waveforms = e_pmt_waveforms.sum(axis=0)\n"
   ]
  },
  {
   "cell_type": "code",
   "execution_count": 132,
   "id": "e668c7f6",
   "metadata": {},
   "outputs": [
    {
     "name": "stdout",
     "output_type": "stream",
     "text": [
      "1.94 ms ± 148 µs per loop (mean ± std. dev. of 7 runs, 100 loops each)\n"
     ]
    }
   ],
   "source": [
    "%timeit -n 100 e_build_waveforms(e_pmt_response, e_z, e_weights, 0.2)"
   ]
  },
  {
   "cell_type": "code",
   "execution_count": 133,
   "id": "897dc00d",
   "metadata": {},
   "outputs": [
    {
     "name": "stdout",
     "output_type": "stream",
     "text": [
      "(32, 2, 2000, 12)\n",
      "(32, 12, 550)\n"
     ]
    }
   ],
   "source": [
    "# Finally, put the whole thing together for a batch\n",
    "batch_el, batch_valid = generate_electrons_batch(batch['energy_deposits'], subkey)\n",
    "batch_diffused = diffuse_electrons_batch(batch_el, parameters['diffusion'], subkey)\n",
    "\n",
    "lifetime = compute_lifetime(batch_diffused, parameters[\"lifetime\"], batch_valid)\n",
    "\n",
    "\n",
    "# Split the diffused electrons:\n",
    "batch_xy = batch_diffused[:,:,:,0:2]\n",
    "batch_z  = batch_diffused[:,:,:,2:]\n",
    "\n",
    "batch_pmt_response = batch_pmt_nn_apply(parameters[\"pmt_network\"], batch_xy)\n",
    "\n",
    "print(batch_pmt_response.shape)\n",
    "\n",
    "batch_build_waveforms = jit(vmap(e_build_waveforms, in_axes=[0,0,0,None,]))\n",
    "\n",
    "\n",
    "batch_pmt_waveforms = batch_build_waveforms(batch_pmt_response, batch_z, lifetime, 0.2)\n",
    "\n",
    "# Again, sum across the event dimension:\n",
    "batch_pmt_waveforms = batch_pmt_waveforms.sum(axis=1)\n",
    "print(batch_pmt_waveforms.shape)\n",
    "\n"
   ]
  },
  {
   "cell_type": "code",
   "execution_count": 134,
   "id": "f3893f7e",
   "metadata": {},
   "outputs": [],
   "source": [
    "# Build the whole thing as a function we can JIT:\n",
    "@jit\n",
    "def simulate_pmts(energy_depositions, _key, parameters):\n",
    "    _generated_electrons, _valid_electrons = \\\n",
    "        generate_electrons_batch(energy_depositions, _key)\n",
    "    _diffused = \\\n",
    "        diffuse_electrons_batch(_generated_electrons, parameters['diffusion'], _key)\n",
    "\n",
    "    lifetime = compute_lifetime(_diffused, parameters[\"lifetime\"], _valid_electrons)\n",
    "\n",
    "    # Split off the XY and Z:\n",
    "    \n",
    "    _diffused_xy = _diffused[:,:,:,0:2]\n",
    "    _diffused_z  = _diffused[:,:,:,2:]\n",
    "    \n",
    "    # Compute the PMT response:\n",
    "    pmt_response = batch_pmt_nn_apply(parameters[\"pmt_network\"], _diffused_xy)\n",
    "\n",
    "    # Compute the waveforms:\n",
    "    pmt_waveforms = batch_build_waveforms(pmt_response, _diffused_z, lifetime, 0.2)\n",
    "    # Sum over the individual depositions:\n",
    "    pmt_waveforms = pmt_waveforms.sum(axis=1)\n",
    "    return pmt_waveforms\n"
   ]
  },
  {
   "cell_type": "code",
   "execution_count": 135,
   "id": "f07b3cf0",
   "metadata": {},
   "outputs": [],
   "source": [
    "temp = simulate_pmts(batch[\"energy_deposits\"], subkey, parameters)"
   ]
  },
  {
   "cell_type": "code",
   "execution_count": null,
   "id": "6df66812",
   "metadata": {},
   "outputs": [],
   "source": []
  },
  {
   "cell_type": "code",
   "execution_count": 136,
   "id": "75b30a1d",
   "metadata": {},
   "outputs": [
    {
     "name": "stdout",
     "output_type": "stream",
     "text": [
      "159 ms ± 12.8 ms per loop (mean ± std. dev. of 7 runs, 1 loop each)\n"
     ]
    }
   ],
   "source": [
    "\n",
    "key, subkey = random.split(key)\n",
    "%timeit -n 1 simulate_pmts(batch[\"energy_deposits\"], subkey, parameters)\n"
   ]
  },
  {
   "cell_type": "code",
   "execution_count": 137,
   "id": "f03eb264",
   "metadata": {},
   "outputs": [],
   "source": [
    "key, subkey = random.split(key)\n",
    "simulated_pmts = simulate_pmts(batch[\"energy_deposits\"], subkey, parameters)"
   ]
  },
  {
   "cell_type": "code",
   "execution_count": 138,
   "id": "14a514ad",
   "metadata": {},
   "outputs": [],
   "source": [
    "# A function to compute the loss per batch:\n",
    "\n",
    "@jit\n",
    "def compute_loss(simulated_waveforms, real_waveforms):\n",
    "    # First, we compute the difference squared in the two:\n",
    "    difference = (simulated_waveforms - real_waveforms)**2.\n",
    "    # Because this data is so sparse, we multiply the squared difference\n",
    "    # by the input data to push the loss up in important places and\n",
    "    # down in unimportant places.  But, don't want the loss to be zero \n",
    "    # where the wavefunction is zero, so put a floor:\n",
    "    loss = difference\n",
    "#     loss = difference * (real_waveforms + 1e-4)\n",
    "    \n",
    "    # And, return the loss as a scalar:\n",
    "    return loss.mean()"
   ]
  },
  {
   "cell_type": "code",
   "execution_count": 139,
   "id": "b4d1fde5",
   "metadata": {},
   "outputs": [
    {
     "name": "stdout",
     "output_type": "stream",
     "text": [
      "(32, 12, 550)\n",
      "(32, 12, 550)\n"
     ]
    }
   ],
   "source": [
    "print(batch[\"S2Pmt\"].shape)\n",
    "print(simulated_pmts.shape)"
   ]
  },
  {
   "cell_type": "code",
   "execution_count": 140,
   "id": "dfdc5ce3",
   "metadata": {},
   "outputs": [],
   "source": [
    "loss = compute_loss(simulated_pmts, batch[\"S2Pmt\"])"
   ]
  },
  {
   "cell_type": "code",
   "execution_count": 141,
   "id": "4dd5e709",
   "metadata": {},
   "outputs": [
    {
     "name": "stdout",
     "output_type": "stream",
     "text": [
      "396.49875\n"
     ]
    }
   ],
   "source": [
    "print(loss)"
   ]
  },
  {
   "cell_type": "code",
   "execution_count": 142,
   "id": "8056b960",
   "metadata": {},
   "outputs": [],
   "source": [
    "# FINALLY, the entire forward pass:"
   ]
  },
  {
   "cell_type": "code",
   "execution_count": 143,
   "id": "4966febe",
   "metadata": {},
   "outputs": [],
   "source": [
    "@jit\n",
    "def forward_pass(batch, parameters, key):\n",
    "    simulated_pmts = simulate_pmts(batch['energy_deposits'], key, parameters)\n",
    "    loss = compute_loss(simulated_pmts, batch['S2Pmt'])\n",
    "    return loss\n",
    "\n",
    "gradient_fn = jit(jax.value_and_grad(forward_pass, argnums=1))"
   ]
  },
  {
   "cell_type": "code",
   "execution_count": 144,
   "id": "7bce9451",
   "metadata": {},
   "outputs": [
    {
     "name": "stdout",
     "output_type": "stream",
     "text": [
      "399.49216\n"
     ]
    }
   ],
   "source": [
    "loss = forward_pass(batch, parameters, key)\n",
    "print(loss)"
   ]
  },
  {
   "cell_type": "code",
   "execution_count": 147,
   "id": "354f0a0e",
   "metadata": {
    "scrolled": false
   },
   "outputs": [],
   "source": [
    "loss, gradients = gradient_fn(batch, parameters, key)"
   ]
  },
  {
   "cell_type": "code",
   "execution_count": 148,
   "id": "f5f3ddfc",
   "metadata": {},
   "outputs": [
    {
     "name": "stdout",
     "output_type": "stream",
     "text": [
      "804 ms ± 21.2 ms per loop (mean ± std. dev. of 7 runs, 2 loops each)\n"
     ]
    }
   ],
   "source": [
    "%timeit -n 2 gradient_fn(batch, parameters, key)"
   ]
  },
  {
   "cell_type": "code",
   "execution_count": 149,
   "id": "63d9035c",
   "metadata": {},
   "outputs": [
    {
     "name": "stdout",
     "output_type": "stream",
     "text": [
      "<class 'list'>\n"
     ]
    }
   ],
   "source": [
    "print(type(tree_util.tree_flatten(gradients)[0]))"
   ]
  },
  {
   "cell_type": "code",
   "execution_count": 158,
   "id": "346974a4",
   "metadata": {},
   "outputs": [],
   "source": [
    "@jit\n",
    "def apply_gradients(_parameters, _gradients, learning_rate):\n",
    "    \n",
    "    # Flatten the tree:\n",
    "    p_flat_tree, p_tree_def = tree_util.tree_flatten(_parameters)\n",
    "    g_flat_tree, g_tree_def = tree_util.tree_flatten(_gradients)\n",
    "    \n",
    "    new_params = [p - learning_rate * g for p, g in zip(p_flat_tree, g_flat_tree)]\n",
    "\n",
    "    return tree_util.tree_unflatten(p_tree_def, new_params)"
   ]
  },
  {
   "cell_type": "code",
   "execution_count": 159,
   "id": "c30854f0",
   "metadata": {},
   "outputs": [
    {
     "name": "stdout",
     "output_type": "stream",
     "text": [
      "The slowest run took 29.76 times longer than the fastest. This could mean that an intermediate result is being cached.\n",
      "96.4 µs ± 188 µs per loop (mean ± std. dev. of 7 runs, 100 loops each)\n"
     ]
    }
   ],
   "source": [
    "%timeit -n 100 apply_gradients(parameters, gradients, 0.01)"
   ]
  },
  {
   "cell_type": "code",
   "execution_count": 160,
   "id": "010b6e93",
   "metadata": {},
   "outputs": [],
   "source": [
    "%timeit -n 10 "
   ]
  },
  {
   "cell_type": "code",
   "execution_count": 161,
   "id": "0997e7f7",
   "metadata": {},
   "outputs": [],
   "source": [
    "# Construct the PMT waveform for a single energy deposition like so:\n",
    "\n",
    "parameters = {\n",
    "    \"diffusion\"   : np.ones(3),\n",
    "    \"lifetime\"    : np.asarray(10000.0),\n",
    "    \"pmt_network\" : pmt_params_initial,\n",
    "}"
   ]
  },
  {
   "cell_type": "code",
   "execution_count": 164,
   "id": "ad3f6ac5",
   "metadata": {},
   "outputs": [
    {
     "name": "stdout",
     "output_type": "stream",
     "text": [
      "pmt_waveforms.max():  3.8934667\n",
      "batch['S2Pmt'].max():  1065.1077423095703\n",
      "406.66235\n",
      "[-4.5547532e-04  7.4531039e-05  5.3962471e-04]\n",
      "[  1.4497383   0.9336286 -25.307156 ]\n",
      "pmt_waveforms.max():  3.9000607\n",
      "batch['S2Pmt'].max():  1065.1077423095703\n",
      "406.66217\n",
      "[-0.00040851  0.00019629 -0.00054496]\n",
      "[  1.4501468    0.93343234 -25.30661   ]\n",
      "pmt_waveforms.max():  3.8826544\n",
      "batch['S2Pmt'].max():  1065.1077423095703\n",
      "406.662\n",
      "[-0.00039405  0.00026712  0.00029235]\n",
      "[  1.4505409    0.93316525 -25.306902  ]\n",
      "pmt_waveforms.max():  3.8837767\n",
      "batch['S2Pmt'].max():  1065.1077423095703\n",
      "406.66187\n",
      "[-0.00037594  0.00028034 -0.00035514]\n",
      "[  1.4509169    0.93288493 -25.306547  ]\n",
      "pmt_waveforms.max():  3.870539\n",
      "batch['S2Pmt'].max():  1065.1077423095703\n",
      "406.66162\n",
      "[-0.00037134  0.00027925  0.00014292]\n",
      "[  1.4512882   0.9326057 -25.30669  ]\n",
      "pmt_waveforms.max():  3.8684\n",
      "batch['S2Pmt'].max():  1065.1077423095703\n",
      "406.66147\n",
      "[-0.00039039  0.00028997 -0.00023186]\n",
      "[  1.4516786   0.9323157 -25.306458 ]\n"
     ]
    },
    {
     "ename": "KeyboardInterrupt",
     "evalue": "",
     "output_type": "error",
     "traceback": [
      "\u001b[0;31m---------------------------------------------------------------------------\u001b[0m",
      "\u001b[0;31mKeyboardInterrupt\u001b[0m                         Traceback (most recent call last)",
      "\u001b[0;32m/var/folders/f_/5dsy8_2x1wd93w36cdk7twz9s8nq7s/T/ipykernel_92819/304325354.py\u001b[0m in \u001b[0;36m<module>\u001b[0;34m\u001b[0m\n\u001b[1;32m      2\u001b[0m \u001b[0;34m\u001b[0m\u001b[0m\n\u001b[1;32m      3\u001b[0m \u001b[0;32mfor\u001b[0m \u001b[0mi\u001b[0m \u001b[0;32min\u001b[0m \u001b[0mrange\u001b[0m\u001b[0;34m(\u001b[0m\u001b[0;36m50\u001b[0m\u001b[0;34m)\u001b[0m\u001b[0;34m:\u001b[0m\u001b[0;34m\u001b[0m\u001b[0;34m\u001b[0m\u001b[0m\n\u001b[0;32m----> 4\u001b[0;31m     \u001b[0mloss\u001b[0m\u001b[0;34m,\u001b[0m \u001b[0mgradients\u001b[0m \u001b[0;34m=\u001b[0m \u001b[0mgradient_fn\u001b[0m\u001b[0;34m(\u001b[0m\u001b[0mbatch\u001b[0m\u001b[0;34m,\u001b[0m \u001b[0mparameters\u001b[0m\u001b[0;34m,\u001b[0m \u001b[0mkey\u001b[0m\u001b[0;34m)\u001b[0m\u001b[0;34m\u001b[0m\u001b[0;34m\u001b[0m\u001b[0m\n\u001b[0m\u001b[1;32m      5\u001b[0m     \u001b[0mpmt_waveforms\u001b[0m \u001b[0;34m=\u001b[0m \u001b[0msimulate_pmts\u001b[0m\u001b[0;34m(\u001b[0m\u001b[0mbatch\u001b[0m\u001b[0;34m[\u001b[0m\u001b[0;34m'energy_deposits'\u001b[0m\u001b[0;34m]\u001b[0m\u001b[0;34m,\u001b[0m \u001b[0mkey\u001b[0m\u001b[0;34m,\u001b[0m \u001b[0mparameters\u001b[0m\u001b[0;34m)\u001b[0m\u001b[0;34m\u001b[0m\u001b[0;34m\u001b[0m\u001b[0m\n\u001b[1;32m      6\u001b[0m     \u001b[0mprint\u001b[0m\u001b[0;34m(\u001b[0m\u001b[0;34m\"pmt_waveforms.max(): \"\u001b[0m\u001b[0;34m,\u001b[0m \u001b[0mpmt_waveforms\u001b[0m\u001b[0;34m.\u001b[0m\u001b[0mmax\u001b[0m\u001b[0;34m(\u001b[0m\u001b[0;34m)\u001b[0m\u001b[0;34m)\u001b[0m\u001b[0;34m\u001b[0m\u001b[0;34m\u001b[0m\u001b[0m\n",
      "\u001b[0;31mKeyboardInterrupt\u001b[0m: "
     ]
    }
   ],
   "source": [
    "# train loop:\n",
    "\n",
    "for i in range(50):\n",
    "    loss, gradients = gradient_fn(batch, parameters, key)\n",
    "    pmt_waveforms = simulate_pmts(batch['energy_deposits'], key, parameters)\n",
    "    print(\"pmt_waveforms.max(): \", pmt_waveforms.max())\n",
    "    print(\"batch['S2Pmt'].max(): \", batch['S2Pmt'].max())\n",
    "    \n",
    "    print(loss)\n",
    "    print(gradients[\"diffusion\"])\n",
    "    parameters = apply_gradients(parameters, gradients, learning_rate=1)\n",
    "    print(parameters[\"diffusion\"])"
   ]
  },
  {
   "cell_type": "code",
   "execution_count": 156,
   "id": "f95bcd23",
   "metadata": {},
   "outputs": [
    {
     "name": "stdout",
     "output_type": "stream",
     "text": [
      "(32, 12, 550)\n",
      "0.0650377\n",
      "851.972412109375\n"
     ]
    },
    {
     "data": {
      "image/png": "[encoded data removed]",
      "text/plain": [
       "<Figure size 1152x648 with 1 Axes>"
      ]
     },
     "metadata": {
      "needs_background": "light"
     },
     "output_type": "display_data"
    }
   ],
   "source": [
    "fig = plt.figure(figsize=(16,9))\n",
    "x = np.arange(550)\n",
    "\n",
    "pmt_waveforms = simulate_pmts(batch['energy_deposits'], key, parameters)\n",
    "print(pmt_waveforms.shape)\n",
    "i_pmt = 4\n",
    "m = batch[\"S2Pmt\"][0][i_pmt].max()\n",
    "print(pmt_waveforms[0,i_pmt].max())\n",
    "print(m)\n",
    "plt.plot(x, pmt_waveforms[0,i_pmt])\n",
    "plt.plot(x, batch[\"S2Pmt\"][0][i_pmt])\n",
    "plt.grid(True)"
   ]
  },
  {
   "cell_type": "code",
   "execution_count": null,
   "id": "30b19fee",
   "metadata": {},
   "outputs": [],
   "source": []
  }
 ],
 "metadata": {
  "kernelspec": {
   "display_name": "Python 3 (ipykernel)",
   "language": "python",
   "name": "python3"
  },
  "language_info": {
   "codemirror_mode": {
    "name": "ipython",
    "version": 3
   },
   "file_extension": ".py",
   "mimetype": "text/x-python",
   "name": "python",
   "nbconvert_exporter": "python",
   "pygments_lexer": "ipython3",
   "version": "3.7.3"
  }
 },
 "nbformat": 4,
 "nbformat_minor": 5
}
