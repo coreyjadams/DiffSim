{
 "cells": [
  {
   "cell_type": "code",
   "execution_count": 3,
   "id": "bbf5abab-7d4f-4262-b556-3e8b17111867",
   "metadata": {},
   "outputs": [],
   "source": [
    "import tensorflow as tf\n",
    "import tensorflow_probability as tfp"
   ]
  },
  {
   "cell_type": "markdown",
   "id": "45a63e63-015a-4c20-98b7-9243fd9f09c6",
   "metadata": {},
   "source": [
    "The differentiable simulation techniques require z-axis differentiation, which usually would be converted to an index into a tensor along the drift distance.  That's not differentiable.  Here, this shows how to use gaussian responses to provide a nearly equivalent response that is differentiable along z, at the cost of some performance."
   ]
  },
  {
   "cell_type": "code",
   "execution_count": null,
   "id": "3051b117-489a-4a99-a6e0-b826a89bd298",
   "metadata": {},
   "outputs": [],
   "source": []
  },
  {
   "cell_type": "code",
   "execution_count": null,
   "id": "93a02bed-3d25-45e1-aed1-ed5bf5fa18b6",
   "metadata": {},
   "outputs": [],
   "source": []
  },
  {
   "cell_type": "code",
   "execution_count": null,
   "id": "05bbeb3d-66c8-4e6b-a08c-3f43f92abaa3",
   "metadata": {},
   "outputs": [],
   "source": []
  },
  {
   "cell_type": "code",
   "execution_count": null,
   "id": "9401c1a3-e633-4a12-bfcd-e8af74a9faf2",
   "metadata": {},
   "outputs": [],
   "source": []
  },
  {
   "cell_type": "code",
   "execution_count": 83,
   "id": "1a2c2de7-3d5d-4f26-a3fc-88bf37d62bfe",
   "metadata": {},
   "outputs": [
    {
     "name": "stdout",
     "output_type": "stream",
     "text": [
      "(3, 12)\n",
      "(12, 40)\n"
     ]
    }
   ],
   "source": [
    "MAX_TICKS=40\n",
    "N_SENSORS=12\n",
    "z = tf.convert_to_tensor([10.1,15.5, 25.4])\n",
    "response = tf.random.uniform(shape=(len(z), 12))\n",
    "\n",
    "total_result = tf.zeros((N_SENSORS, MAX_TICKS))\n",
    "\n",
    "print(response.shape)\n",
    "print(total_result.shape)"
   ]
  },
  {
   "cell_type": "code",
   "execution_count": 84,
   "id": "3bee185a-1446-4e93-aa47-16e56eb389ea",
   "metadata": {},
   "outputs": [],
   "source": [
    "test_range = tf.range(40)"
   ]
  },
  {
   "cell_type": "code",
   "execution_count": 85,
   "id": "8520dad4-2558-4193-8345-ddcc3f7218b0",
   "metadata": {},
   "outputs": [
    {
     "name": "stdout",
     "output_type": "stream",
     "text": [
      "tf.Tensor(\n",
      "[[ 0.  1.  2.  3.  4.  5.  6.  7.  8.  9. 10. 11. 12. 13. 14. 15. 16. 17.\n",
      "  18. 19. 20. 21. 22. 23. 24. 25. 26. 27. 28. 29. 30. 31. 32. 33. 34. 35.\n",
      "  36. 37. 38. 39.]\n",
      " [ 0.  1.  2.  3.  4.  5.  6.  7.  8.  9. 10. 11. 12. 13. 14. 15. 16. 17.\n",
      "  18. 19. 20. 21. 22. 23. 24. 25. 26. 27. 28. 29. 30. 31. 32. 33. 34. 35.\n",
      "  36. 37. 38. 39.]\n",
      " [ 0.  1.  2.  3.  4.  5.  6.  7.  8.  9. 10. 11. 12. 13. 14. 15. 16. 17.\n",
      "  18. 19. 20. 21. 22. 23. 24. 25. 26. 27. 28. 29. 30. 31. 32. 33. 34. 35.\n",
      "  36. 37. 38. 39.]], shape=(3, 40), dtype=float32)\n",
      "(3, 40)\n"
     ]
    }
   ],
   "source": [
    "empty_ticks = tf.stack([ tf.range(40, dtype=tf.float32) for _z in z])\n",
    "print(empty_ticks)\n",
    "print(empty_ticks.shape)"
   ]
  },
  {
   "cell_type": "code",
   "execution_count": 86,
   "id": "e8267f29-3596-47c2-9051-c52e70dc9f65",
   "metadata": {},
   "outputs": [
    {
     "name": "stdout",
     "output_type": "stream",
     "text": [
      "tf.Tensor(\n",
      "[[10.1]\n",
      " [15.5]\n",
      " [25.4]], shape=(3, 1), dtype=float32)\n"
     ]
    }
   ],
   "source": [
    "z = tf.reshape(z, z.shape + (1,))\n",
    "print(z)"
   ]
  },
  {
   "cell_type": "code",
   "execution_count": 96,
   "id": "3946498a-6ceb-4777-9ab0-c906cc6db3d5",
   "metadata": {},
   "outputs": [
    {
     "name": "stdout",
     "output_type": "stream",
     "text": [
      "tf.Tensor(\n",
      "[[0.0000000e+00 0.0000000e+00 0.0000000e+00 0.0000000e+00 0.0000000e+00\n",
      "  0.0000000e+00 0.0000000e+00 0.0000000e+00 7.0405362e-20 5.5594637e-06\n",
      "  9.0483677e-01 3.0354134e-04 2.0988263e-16 2.9911947e-37 0.0000000e+00\n",
      "  0.0000000e+00 0.0000000e+00 0.0000000e+00 0.0000000e+00 0.0000000e+00\n",
      "  0.0000000e+00 0.0000000e+00 0.0000000e+00 0.0000000e+00 0.0000000e+00\n",
      "  0.0000000e+00 0.0000000e+00 0.0000000e+00 0.0000000e+00 0.0000000e+00\n",
      "  0.0000000e+00 0.0000000e+00 0.0000000e+00 0.0000000e+00 0.0000000e+00\n",
      "  0.0000000e+00 0.0000000e+00 0.0000000e+00 0.0000000e+00 0.0000000e+00]\n",
      " [0.0000000e+00 0.0000000e+00 0.0000000e+00 0.0000000e+00 0.0000000e+00\n",
      "  0.0000000e+00 0.0000000e+00 0.0000000e+00 0.0000000e+00 0.0000000e+00\n",
      "  0.0000000e+00 0.0000000e+00 0.0000000e+00 7.1877814e-28 1.6918979e-10\n",
      "  8.2084998e-02 8.2084998e-02 1.6918979e-10 7.1877814e-28 0.0000000e+00\n",
      "  0.0000000e+00 0.0000000e+00 0.0000000e+00 0.0000000e+00 0.0000000e+00\n",
      "  0.0000000e+00 0.0000000e+00 0.0000000e+00 0.0000000e+00 0.0000000e+00\n",
      "  0.0000000e+00 0.0000000e+00 0.0000000e+00 0.0000000e+00 0.0000000e+00\n",
      "  0.0000000e+00 0.0000000e+00 0.0000000e+00 0.0000000e+00 0.0000000e+00]\n",
      " [0.0000000e+00 0.0000000e+00 0.0000000e+00 0.0000000e+00 0.0000000e+00\n",
      "  0.0000000e+00 0.0000000e+00 0.0000000e+00 0.0000000e+00 0.0000000e+00\n",
      "  0.0000000e+00 0.0000000e+00 0.0000000e+00 0.0000000e+00 0.0000000e+00\n",
      "  0.0000000e+00 0.0000000e+00 0.0000000e+00 0.0000000e+00 0.0000000e+00\n",
      "  0.0000000e+00 0.0000000e+00 0.0000000e+00 9.6526179e-26 3.0749139e-09\n",
      "  2.0189714e-01 2.7323594e-02 7.6217747e-12 4.3821147e-30 0.0000000e+00\n",
      "  0.0000000e+00 0.0000000e+00 0.0000000e+00 0.0000000e+00 0.0000000e+00\n",
      "  0.0000000e+00 0.0000000e+00 0.0000000e+00 0.0000000e+00 0.0000000e+00]], shape=(3, 40), dtype=float32)\n"
     ]
    }
   ],
   "source": [
    "z_values = tf.exp( -(empty_ticks - z)**2 / 0.1)\n",
    "print(z_values)"
   ]
  },
  {
   "cell_type": "code",
   "execution_count": 108,
   "id": "75fbdabc-a0cc-47ce-89db-3f98cf1a7a59",
   "metadata": {},
   "outputs": [
    {
     "name": "stdout",
     "output_type": "stream",
     "text": [
      "tf.Tensor([10 15 25], shape=(3,), dtype=int64)\n"
     ]
    }
   ],
   "source": [
    "print(tf.math.argmax(z_values, axis=-1))"
   ]
  },
  {
   "cell_type": "markdown",
   "id": "3912b065-cde1-4b48-9593-3b286de913c6",
   "metadata": {},
   "source": [
    "The values come out in the right spots!  Add the sensor responses:"
   ]
  },
  {
   "cell_type": "code",
   "execution_count": 109,
   "id": "a846ef26-27f7-46ad-9acd-38d5c5dd168e",
   "metadata": {},
   "outputs": [
    {
     "name": "stdout",
     "output_type": "stream",
     "text": [
      "(3, 40)\n",
      "(3, 12)\n"
     ]
    }
   ],
   "source": [
    "print(z_values.shape)\n",
    "print(response.shape)"
   ]
  },
  {
   "cell_type": "code",
   "execution_count": 110,
   "id": "a3cd938d-6093-40d8-b2e3-c84895f4cbcc",
   "metadata": {},
   "outputs": [],
   "source": [
    "test_result = tf.transpose(tf.linalg.matmul(tf.transpose(z_values), response))"
   ]
  },
  {
   "cell_type": "code",
   "execution_count": 107,
   "id": "1258456c-40d5-4dcf-a370-19485aacc353",
   "metadata": {},
   "outputs": [
    {
     "name": "stdout",
     "output_type": "stream",
     "text": [
      "(12, 40)\n",
      "tf.Tensor([10 10 10 15 10 10 25 10 10 10 10 25], shape=(12,), dtype=int64)\n"
     ]
    }
   ],
   "source": [
    "print(test_result.shape)\n",
    "print(tf.math.argmax(test_result, axis=1))"
   ]
  },
  {
   "cell_type": "code",
   "execution_count": 75,
   "id": "3431945c-6583-450e-b40a-ef1ccd876823",
   "metadata": {},
   "outputs": [],
   "source": [
    "response = tf.random.uniform(shape=(len(z), 40))"
   ]
  },
  {
   "cell_type": "code",
   "execution_count": 76,
   "id": "3ee0db94-3bb7-4a8d-9e08-a203cd5c03a9",
   "metadata": {},
   "outputs": [
    {
     "name": "stdout",
     "output_type": "stream",
     "text": [
      "(1, 40)\n"
     ]
    }
   ],
   "source": [
    "print(response.shape)"
   ]
  },
  {
   "cell_type": "markdown",
   "id": "81a103dc-86ef-4a3a-a634-d271796a33be",
   "metadata": {},
   "source": [
    "Can we do it with sparse tensors?"
   ]
  },
  {
   "cell_type": "code",
   "execution_count": 117,
   "id": "e4d7a4eb-f1b1-4600-94b4-f141b294c0c5",
   "metadata": {},
   "outputs": [],
   "source": [
    "sparse_z_values_t = tf.sparse.from_dense(tf.transpose(z_values))"
   ]
  },
  {
   "cell_type": "code",
   "execution_count": 118,
   "id": "8e043af7-994f-483f-a2ff-b0cda00726c3",
   "metadata": {},
   "outputs": [
    {
     "name": "stdout",
     "output_type": "stream",
     "text": [
      "SparseTensor(indices=tf.Tensor(\n",
      "[[ 0  8]\n",
      " [ 0  9]\n",
      " [ 0 10]\n",
      " [ 0 11]\n",
      " [ 0 12]\n",
      " [ 0 13]\n",
      " [ 1 13]\n",
      " [ 1 14]\n",
      " [ 1 15]\n",
      " [ 1 16]\n",
      " [ 1 17]\n",
      " [ 1 18]\n",
      " [ 2 23]\n",
      " [ 2 24]\n",
      " [ 2 25]\n",
      " [ 2 26]\n",
      " [ 2 27]\n",
      " [ 2 28]], shape=(18, 2), dtype=int64), values=tf.Tensor(\n",
      "[7.0405362e-20 5.5594637e-06 9.0483677e-01 3.0354134e-04 2.0988263e-16\n",
      " 2.9911947e-37 7.1877814e-28 1.6918979e-10 8.2084998e-02 8.2084998e-02\n",
      " 1.6918979e-10 7.1877814e-28 9.6526179e-26 3.0749139e-09 2.0189714e-01\n",
      " 2.7323594e-02 7.6217747e-12 4.3821147e-30], shape=(18,), dtype=float32), dense_shape=tf.Tensor([ 3 40], shape=(2,), dtype=int64))\n"
     ]
    }
   ],
   "source": [
    "print(sparse_z_values)"
   ]
  },
  {
   "cell_type": "code",
   "execution_count": 122,
   "id": "6d2454f7-1200-47a5-b23d-c160cfb100c8",
   "metadata": {},
   "outputs": [],
   "source": [
    "test_result = tf.transpose(tf.sparse.sparse_dense_matmul(sparse_z_values_t, response))"
   ]
  },
  {
   "cell_type": "code",
   "execution_count": 123,
   "id": "928eb804-e3de-4f07-9e6e-9c7faecdc636",
   "metadata": {},
   "outputs": [
    {
     "name": "stdout",
     "output_type": "stream",
     "text": [
      "(12, 40)\n"
     ]
    }
   ],
   "source": [
    "print(test_result.shape)"
   ]
  },
  {
   "cell_type": "code",
   "execution_count": null,
   "id": "c72d5765-3810-4966-a84e-1c5da7b25245",
   "metadata": {},
   "outputs": [],
   "source": []
  }
 ],
 "metadata": {
  "kernelspec": {
   "display_name": "Python 3 (ipykernel)",
   "language": "python",
   "name": "python3"
  },
  "language_info": {
   "codemirror_mode": {
    "name": "ipython",
    "version": 3
   },
   "file_extension": ".py",
   "mimetype": "text/x-python",
   "name": "python",
   "nbconvert_exporter": "python",
   "pygments_lexer": "ipython3",
   "version": "3.8.6"
  }
 },
 "nbformat": 4,
 "nbformat_minor": 5
}
